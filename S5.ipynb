{
  "cells": [
    {
      "attachments": {},
      "cell_type": "markdown",
      "metadata": {
        "id": "n09vaEgP6pLj"
      },
      "source": [
        "CODE BLOCK: 1"
      ]
    },
    {
      "cell_type": "code",
      "execution_count": 1,
      "metadata": {
        "id": "6PlbomWY3RSq"
      },
      "outputs": [],
      "source": [
        "import torch\n",
        "import torch.nn as nn\n",
        "import torch.nn.functional as F\n",
        "import torch.optim as optim\n",
        "from torchvision import datasets, transforms\n",
        "from utils import device, build_loader, train, test\n",
        "from model import Net"
      ]
    },
    {
      "attachments": {},
      "cell_type": "markdown",
      "metadata": {
        "id": "VjBHHQVA6sXt"
      },
      "source": [
        "CODE BLOCK: 2"
      ]
    },
    {
      "cell_type": "code",
      "execution_count": 2,
      "metadata": {
        "colab": {
          "base_uri": "https://localhost:8080/"
        },
        "id": "94BxVVBP3WwS",
        "outputId": "5da67558-810b-4c46-d7b0-ea0e2cf27723"
      },
      "outputs": [],
      "source": [
        "# CUDA?\n",
        "# cuda = torch.cuda.is_available()\n",
        "# print(\"CUDA Available?\", cuda)"
      ]
    },
    {
      "attachments": {},
      "cell_type": "markdown",
      "metadata": {
        "id": "3UHq59Sw6tmW"
      },
      "source": [
        "CODE BLOCK: 3"
      ]
    },
    {
      "cell_type": "code",
      "execution_count": 3,
      "metadata": {
        "id": "KpshQ2Ug38m2"
      },
      "outputs": [],
      "source": [
        "# Train data transformations\n",
        "train_transforms = transforms.Compose([\n",
        "    transforms.RandomApply([transforms.CenterCrop(22), ], p=0.1),\n",
        "    transforms.Resize((28, 28)),\n",
        "    transforms.RandomRotation((-15., 15.), fill=0),\n",
        "    transforms.ToTensor(),\n",
        "    transforms.Normalize((0.1307,), (0.3081,)),\n",
        "    ])\n",
        "\n",
        "# Test data transformations\n",
        "test_transforms = transforms.Compose([\n",
        "    transforms.ToTensor(),\n",
        "    transforms.Normalize((0.1307,), (0.3081,))\n",
        "    ])"
      ]
    },
    {
      "attachments": {},
      "cell_type": "markdown",
      "metadata": {
        "id": "zQm17pM46zHL"
      },
      "source": [
        "CODE BLOCK: 4"
      ]
    },
    {
      "cell_type": "code",
      "execution_count": 4,
      "metadata": {
        "colab": {
          "base_uri": "https://localhost:8080/"
        },
        "id": "JB79ZYW13-AO",
        "outputId": "c61515da-59c9-4d62-ead4-4cb28c7d154b"
      },
      "outputs": [
        {
          "name": "stdout",
          "output_type": "stream",
          "text": [
            "Downloading http://yann.lecun.com/exdb/mnist/train-images-idx3-ubyte.gz\n",
            "Downloading http://yann.lecun.com/exdb/mnist/train-images-idx3-ubyte.gz to ../data\\MNIST\\raw\\train-images-idx3-ubyte.gz\n"
          ]
        },
        {
          "data": {
            "application/vnd.jupyter.widget-view+json": {
              "model_id": "704ebab852ad4a7fadd3d40bbacd2d75",
              "version_major": 2,
              "version_minor": 0
            },
            "text/plain": [
              "  0%|          | 0/9912422 [00:00<?, ?it/s]"
            ]
          },
          "metadata": {},
          "output_type": "display_data"
        },
        {
          "name": "stdout",
          "output_type": "stream",
          "text": [
            "Extracting ../data\\MNIST\\raw\\train-images-idx3-ubyte.gz to ../data\\MNIST\\raw\n",
            "\n",
            "Downloading http://yann.lecun.com/exdb/mnist/train-labels-idx1-ubyte.gz\n",
            "Downloading http://yann.lecun.com/exdb/mnist/train-labels-idx1-ubyte.gz to ../data\\MNIST\\raw\\train-labels-idx1-ubyte.gz\n"
          ]
        },
        {
          "data": {
            "application/vnd.jupyter.widget-view+json": {
              "model_id": "8117bdb8ca0c4d3eb72c11103b1907a7",
              "version_major": 2,
              "version_minor": 0
            },
            "text/plain": [
              "  0%|          | 0/28881 [00:00<?, ?it/s]"
            ]
          },
          "metadata": {},
          "output_type": "display_data"
        },
        {
          "name": "stdout",
          "output_type": "stream",
          "text": [
            "Extracting ../data\\MNIST\\raw\\train-labels-idx1-ubyte.gz to ../data\\MNIST\\raw\n",
            "\n",
            "Downloading http://yann.lecun.com/exdb/mnist/t10k-images-idx3-ubyte.gz\n",
            "Downloading http://yann.lecun.com/exdb/mnist/t10k-images-idx3-ubyte.gz to ../data\\MNIST\\raw\\t10k-images-idx3-ubyte.gz\n"
          ]
        },
        {
          "data": {
            "application/vnd.jupyter.widget-view+json": {
              "model_id": "b148e5f2833d4a36b856e270e5fb0e4a",
              "version_major": 2,
              "version_minor": 0
            },
            "text/plain": [
              "  0%|          | 0/1648877 [00:00<?, ?it/s]"
            ]
          },
          "metadata": {},
          "output_type": "display_data"
        },
        {
          "name": "stdout",
          "output_type": "stream",
          "text": [
            "Extracting ../data\\MNIST\\raw\\t10k-images-idx3-ubyte.gz to ../data\\MNIST\\raw\n",
            "\n",
            "Downloading http://yann.lecun.com/exdb/mnist/t10k-labels-idx1-ubyte.gz\n",
            "Downloading http://yann.lecun.com/exdb/mnist/t10k-labels-idx1-ubyte.gz to ../data\\MNIST\\raw\\t10k-labels-idx1-ubyte.gz\n"
          ]
        },
        {
          "data": {
            "application/vnd.jupyter.widget-view+json": {
              "model_id": "6f02ee5881594f8d8337aba37b061748",
              "version_major": 2,
              "version_minor": 0
            },
            "text/plain": [
              "  0%|          | 0/4542 [00:00<?, ?it/s]"
            ]
          },
          "metadata": {},
          "output_type": "display_data"
        },
        {
          "name": "stdout",
          "output_type": "stream",
          "text": [
            "Extracting ../data\\MNIST\\raw\\t10k-labels-idx1-ubyte.gz to ../data\\MNIST\\raw\n",
            "\n"
          ]
        }
      ],
      "source": [
        "train_data = datasets.MNIST('../data', train=True, download=True, transform=train_transforms)\n",
        "test_data = datasets.MNIST('../data', train=False, download=True, transform=test_transforms)"
      ]
    },
    {
      "attachments": {},
      "cell_type": "markdown",
      "metadata": {
        "id": "_PKSHxto6116"
      },
      "source": [
        "CODE BLOCK: 5"
      ]
    },
    {
      "cell_type": "code",
      "execution_count": 5,
      "metadata": {
        "id": "avCKK1uL4A68"
      },
      "outputs": [],
      "source": [
        "batch_size = 512\n",
        "train_loader, test_loader = build_loader(batch_size, train_data, test_data)"
      ]
    },
    {
      "attachments": {},
      "cell_type": "markdown",
      "metadata": {
        "id": "Hi_0rfq56-29"
      },
      "source": [
        "CODE BLOCK: 6"
      ]
    },
    {
      "cell_type": "code",
      "execution_count": 6,
      "metadata": {
        "colab": {
          "base_uri": "https://localhost:8080/",
          "height": 463
        },
        "id": "Hx7QkLcw4Epc",
        "outputId": "038c3573-9002-4cf7-e8ca-e764b3bd4ead"
      },
      "outputs": [
        {
          "data": {
            "image/png": "[encoded data removed]",
            "text/plain": [
              "<Figure size 432x288 with 12 Axes>"
            ]
          },
          "metadata": {},
          "output_type": "display_data"
        }
      ],
      "source": [
        "import matplotlib.pyplot as plt\n",
        "\n",
        "batch_data, batch_label = next(iter(train_loader)) \n",
        "\n",
        "fig = plt.figure()\n",
        "\n",
        "for i in range(12):\n",
        "  plt.subplot(3,4,i+1)\n",
        "  plt.tight_layout()\n",
        "  plt.imshow(batch_data[i].squeeze(0), cmap='gray')\n",
        "  plt.title(batch_label[i].item())\n",
        "  plt.xticks([])\n",
        "  plt.yticks([])"
      ]
    },
    {
      "attachments": {},
      "cell_type": "markdown",
      "metadata": {
        "id": "y3XbVJSb7Aee"
      },
      "source": [
        "CODE BLOCK: 7"
      ]
    },
    {
      "cell_type": "code",
      "execution_count": 7,
      "metadata": {
        "id": "UHBolvMH4F8y"
      },
      "outputs": [],
      "source": [
        "# class Net(nn.Module):\n",
        "#     #This defines the structure of the NN.\n",
        "#     def __init__(self):\n",
        "#         super(Net, self).__init__()\n",
        "#         self.conv1 = nn.Conv2d(1, 32, kernel_size=3)\n",
        "#         self.conv2 = nn.Conv2d(32, 64, kernel_size=3)\n",
        "#         self.conv3 = nn.Conv2d(64, 128, kernel_size=3)\n",
        "#         self.conv4 = nn.Conv2d(128, 256, kernel_size=3)\n",
        "#         self.fc1 = nn.Linear(4096, 50)\n",
        "#         self.fc2 = nn.Linear(50, 10)\n",
        "\n",
        "#     def forward(self, x):\n",
        "#         x = F.relu(self.conv1(x), 2) # 28>26 | 1>3 | 1>1\n",
        "#         x = F.relu(F.max_pool2d(self.conv2(x), 2)) #26>24>12 | 3>5>6 | 1>1>2\n",
        "#         x = F.relu(self.conv3(x), 2) # 12>10 | 6>10 | 2>2\n",
        "#         x = F.relu(F.max_pool2d(self.conv4(x), 2)) # 10>8>4 | 10>14>16 | 2>2>4\n",
        "#         x = x.view(-1, 4096) # 4*4*256 = 4096\n",
        "#         x = F.relu(self.fc1(x))\n",
        "#         x = self.fc2(x)\n",
        "#         return F.log_softmax(x, dim=1)"
      ]
    },
    {
      "cell_type": "code",
      "execution_count": 8,
      "metadata": {
        "colab": {
          "base_uri": "https://localhost:8080/"
        },
        "id": "2nlY-tvJpgtH",
        "outputId": "893d833b-5103-490f-f650-28ee384ed913"
      },
      "outputs": [
        {
          "name": "stdout",
          "output_type": "stream",
          "text": [
            "----------------------------------------------------------------\n",
            "        Layer (type)               Output Shape         Param #\n",
            "================================================================\n",
            "            Conv2d-1           [-1, 32, 26, 26]             320\n",
            "            Conv2d-2           [-1, 64, 24, 24]          18,496\n",
            "            Conv2d-3          [-1, 128, 10, 10]          73,856\n",
            "            Conv2d-4            [-1, 256, 8, 8]         295,168\n",
            "            Linear-5                   [-1, 50]         204,850\n",
            "            Linear-6                   [-1, 10]             510\n",
            "================================================================\n",
            "Total params: 593,200\n",
            "Trainable params: 593,200\n",
            "Non-trainable params: 0\n",
            "----------------------------------------------------------------\n",
            "Input size (MB): 0.00\n",
            "Forward/backward pass size (MB): 0.67\n",
            "Params size (MB): 2.26\n",
            "Estimated Total Size (MB): 2.94\n",
            "----------------------------------------------------------------\n"
          ]
        }
      ],
      "source": [
        "# !pip install torchsummary\n",
        "from torchsummary import summary\n",
        "\n",
        "model = Net().to(device)\n",
        "summary(model, input_size=(1, 28, 28))"
      ]
    },
    {
      "cell_type": "code",
      "execution_count": 9,
      "metadata": {
        "colab": {
          "base_uri": "https://localhost:8080/"
        },
        "id": "AI-MWeIBruUx",
        "outputId": "2746c447-4180-45b2-bde3-261290902b5d"
      },
      "outputs": [
        {
          "name": "stdout",
          "output_type": "stream",
          "text": [
            "----------------------------------------------------------------\n",
            "        Layer (type)               Output Shape         Param #\n",
            "================================================================\n",
            "            Conv2d-1           [-1, 32, 26, 26]             288\n",
            "            Conv2d-2           [-1, 64, 24, 24]          18,432\n",
            "            Conv2d-3          [-1, 128, 10, 10]          73,728\n",
            "            Conv2d-4            [-1, 256, 8, 8]         294,912\n",
            "            Linear-5                   [-1, 50]         204,800\n",
            "            Linear-6                   [-1, 10]             500\n",
            "================================================================\n",
            "Total params: 592,660\n",
            "Trainable params: 592,660\n",
            "Non-trainable params: 0\n",
            "----------------------------------------------------------------\n",
            "Input size (MB): 0.00\n",
            "Forward/backward pass size (MB): 0.67\n",
            "Params size (MB): 2.26\n",
            "Estimated Total Size (MB): 2.93\n",
            "----------------------------------------------------------------\n"
          ]
        }
      ],
      "source": [
        "# class Net2(nn.Module):\n",
        "#     #This defines the structure of the NN.\n",
        "#     def __init__(self):\n",
        "#         super(Net2, self).__init__()\n",
        "#         self.conv1 = nn.Conv2d(1, 32, kernel_size=3, bias=False)\n",
        "#         self.conv2 = nn.Conv2d(32, 64, kernel_size=3, bias=False)\n",
        "#         self.conv3 = nn.Conv2d(64, 128, kernel_size=3, bias=False)\n",
        "#         self.conv4 = nn.Conv2d(128, 256, kernel_size=3, bias=False)\n",
        "#         self.fc1 = nn.Linear(4096, 50, bias=False)\n",
        "#         self.fc2 = nn.Linear(50, 10, bias=False)\n",
        "\n",
        "#     def forward(self, x):\n",
        "#         x = F.relu(self.conv1(x), 2) # 28>26 | 1>3 | 1>1\n",
        "#         x = F.relu(F.max_pool2d(self.conv2(x), 2)) #26>24>12 | 3>5>6 | 1>1>2\n",
        "#         x = F.relu(self.conv3(x), 2) # 12>10 | 6>10 | 2>2\n",
        "#         x = F.relu(F.max_pool2d(self.conv4(x), 2)) # 10>8>4 | 10>14>16 | 2>2>4\n",
        "#         x = x.view(-1, 4096) # 4*4*256 = 4096\n",
        "#         x = F.relu(self.fc1(x))\n",
        "#         x = self.fc2(x)\n",
        "#         return F.log_softmax(x, dim=1)\n",
        "\n",
        "kwargs = {'bias': False}\n",
        "model = Net(**kwargs).to(device)\n",
        "summary(model, input_size=(1, 28, 28))"
      ]
    },
    {
      "attachments": {},
      "cell_type": "markdown",
      "metadata": {
        "id": "89gd4_s7AO2y"
      },
      "source": [
        "CODE BLOCK: 8"
      ]
    },
    {
      "cell_type": "code",
      "execution_count": 10,
      "metadata": {
        "id": "7du4zM474LvT"
      },
      "outputs": [],
      "source": [
        "# Data to plot accuracy and loss graphs\n",
        "train_losses = []\n",
        "test_losses = []\n",
        "train_acc = []\n",
        "test_acc = []\n",
        "\n",
        "test_incorrect_pred = {'images': [], 'ground_truths': [], 'predicted_vals': []}"
      ]
    },
    {
      "attachments": {},
      "cell_type": "markdown",
      "metadata": {
        "id": "kCwIPHqwAQgB"
      },
      "source": [
        "CODE BLOCK: 9"
      ]
    },
    {
      "cell_type": "code",
      "execution_count": 11,
      "metadata": {
        "id": "gpNw3-sy4QGd"
      },
      "outputs": [],
      "source": [
        "\n",
        "# from tqdm import tqdm\n",
        "\n",
        "# def GetCorrectPredCount(pPrediction, pLabels):\n",
        "#   return pPrediction.argmax(dim=1).eq(pLabels).sum().item()\n",
        "\n",
        "# def train(model, device, train_loader, optimizer, criterion):\n",
        "#   model.train()\n",
        "#   pbar = tqdm(train_loader)\n",
        "\n",
        "#   train_loss = 0\n",
        "#   correct = 0\n",
        "#   processed = 0\n",
        "\n",
        "#   for batch_idx, (data, target) in enumerate(pbar):\n",
        "#     data, target = data.to(device), target.to(device)\n",
        "#     optimizer.zero_grad()\n",
        "\n",
        "#     # Predict\n",
        "#     pred = model(data)\n",
        "\n",
        "#     # Calculate loss\n",
        "#     loss = criterion(pred, target)\n",
        "#     train_loss+=loss.item()\n",
        "\n",
        "#     # Backpropagation\n",
        "#     loss.backward()\n",
        "#     optimizer.step()\n",
        "    \n",
        "#     correct += GetCorrectPredCount(pred, target)\n",
        "#     processed += len(data)\n",
        "\n",
        "#     pbar.set_description(desc= f'Train: Loss={loss.item():0.4f} Batch_id={batch_idx} Accuracy={100*correct/processed:0.2f}')\n",
        "\n",
        "#   train_acc.append(100*correct/processed)\n",
        "#   train_losses.append(train_loss/len(train_loader))\n",
        "\n",
        "# def test(model, device, test_loader, criterion):\n",
        "#     model.eval()\n",
        "\n",
        "#     test_loss = 0\n",
        "#     correct = 0\n",
        "\n",
        "#     with torch.no_grad():\n",
        "#         for batch_idx, (data, target) in enumerate(test_loader):\n",
        "#             data, target = data.to(device), target.to(device)\n",
        "\n",
        "#             output = model(data)\n",
        "#             test_loss += criterion(output, target, reduction='sum').item()  # sum up batch loss\n",
        "\n",
        "#             correct += GetCorrectPredCount(output, target)\n",
        "\n",
        "\n",
        "#     test_loss /= len(test_loader.dataset)\n",
        "#     test_acc.append(100. * correct / len(test_loader.dataset))\n",
        "#     test_losses.append(test_loss)\n",
        "\n",
        "#     print('Test set: Average loss: {:.4f}, Accuracy: {}/{} ({:.2f}%)\\n'.format(\n",
        "#         test_loss, correct, len(test_loader.dataset),\n",
        "#         100. * correct / len(test_loader.dataset)))\n",
        "     "
      ]
    },
    {
      "attachments": {},
      "cell_type": "markdown",
      "metadata": {
        "id": "09GYKBGRAT5M"
      },
      "source": [
        "CODE BLOCK: 10"
      ]
    },
    {
      "cell_type": "code",
      "execution_count": 15,
      "metadata": {
        "colab": {
          "base_uri": "https://localhost:8080/",
          "height": 433
        },
        "id": "Owqiet9M4TV7",
        "outputId": "fb07e2b8-82ce-4e5f-d594-4d292b0619d3"
      },
      "outputs": [
        {
          "name": "stdout",
          "output_type": "stream",
          "text": [
            "Adjusting learning rate of group 0 to 1.0000e-02.\n",
            "Epoch 1\n"
          ]
        },
        {
          "name": "stderr",
          "output_type": "stream",
          "text": [
            "Train: Loss=0.0044 Batch_id=117 Accuracy=98.81: 100%|██████████| 118/118 [00:30<00:00,  3.82it/s]\n"
          ]
        },
        {
          "name": "stdout",
          "output_type": "stream",
          "text": [
            "Test set: Average loss: 0.0250, Accuracy: 9910/10000 (99.10%)\n",
            "\n",
            "Adjusting learning rate of group 0 to 1.0000e-02.\n",
            "Epoch 2\n"
          ]
        },
        {
          "name": "stderr",
          "output_type": "stream",
          "text": [
            "Train: Loss=0.0260 Batch_id=117 Accuracy=98.78: 100%|██████████| 118/118 [00:31<00:00,  3.73it/s]\n"
          ]
        },
        {
          "name": "stdout",
          "output_type": "stream",
          "text": [
            "Test set: Average loss: 0.0282, Accuracy: 9901/10000 (99.01%)\n",
            "\n",
            "Adjusting learning rate of group 0 to 1.0000e-02.\n",
            "Epoch 3\n"
          ]
        },
        {
          "name": "stderr",
          "output_type": "stream",
          "text": [
            "Train: Loss=0.0191 Batch_id=117 Accuracy=98.86: 100%|██████████| 118/118 [00:30<00:00,  3.87it/s]\n"
          ]
        },
        {
          "name": "stdout",
          "output_type": "stream",
          "text": [
            "Test set: Average loss: 0.0227, Accuracy: 9913/10000 (99.13%)\n",
            "\n",
            "Adjusting learning rate of group 0 to 1.0000e-02.\n",
            "Epoch 4\n"
          ]
        },
        {
          "name": "stderr",
          "output_type": "stream",
          "text": [
            "Train: Loss=0.0708 Batch_id=117 Accuracy=98.94: 100%|██████████| 118/118 [00:28<00:00,  4.15it/s]\n"
          ]
        },
        {
          "name": "stdout",
          "output_type": "stream",
          "text": [
            "Test set: Average loss: 0.0213, Accuracy: 9930/10000 (99.30%)\n",
            "\n",
            "Adjusting learning rate of group 0 to 1.0000e-02.\n",
            "Epoch 5\n"
          ]
        },
        {
          "name": "stderr",
          "output_type": "stream",
          "text": [
            "Train: Loss=0.0103 Batch_id=117 Accuracy=98.94: 100%|██████████| 118/118 [00:28<00:00,  4.15it/s]\n"
          ]
        },
        {
          "name": "stdout",
          "output_type": "stream",
          "text": [
            "Test set: Average loss: 0.0214, Accuracy: 9927/10000 (99.27%)\n",
            "\n",
            "Adjusting learning rate of group 0 to 1.0000e-02.\n"
          ]
        }
      ],
      "source": [
        "# model = Net().to(device)\n",
        "optimizer = optim.SGD(model.parameters(), lr=0.01, momentum=0.9)\n",
        "scheduler = optim.lr_scheduler.StepLR(optimizer, step_size=15, gamma=0.1, verbose=True)\n",
        "# New Line\n",
        "criterion = F.nll_loss\n",
        "num_epochs = 5\n",
        "\n",
        "for epoch in range(1, num_epochs+1):\n",
        "  print(f'Epoch {epoch}')\n",
        "  train_accuracy, train_loss = train(model, device, train_loader, optimizer, criterion)\n",
        "  train_acc.append(train_accuracy)\n",
        "  train_losses.append(train_loss)\n",
        "\n",
        "  test_accuracy, test_loss = test(model, device, test_loader, criterion)\n",
        "  test_acc.append(test_accuracy)\n",
        "  test_losses.append(test_loss)\n",
        "  scheduler.step()"
      ]
    },
    {
      "attachments": {},
      "cell_type": "markdown",
      "metadata": {
        "id": "B-LM-Z1k6FcF"
      },
      "source": [
        "CODE BLOCK: 11"
      ]
    },
    {
      "cell_type": "code",
      "execution_count": 17,
      "metadata": {
        "colab": {
          "base_uri": "https://localhost:8080/",
          "height": 871
        },
        "id": "Wu0l7dli4eC9",
        "outputId": "cd1fcdab-0c0f-41dc-d1c9-6b80f9eb7915"
      },
      "outputs": [
        {
          "data": {
            "text/plain": [
              "Text(0.5, 1.0, 'Test Accuracy')"
            ]
          },
          "execution_count": 17,
          "metadata": {},
          "output_type": "execute_result"
        },
        {
          "data": {
            "image/png": "[encoded data removed]",
            "text/plain": [
              "<Figure size 1080x720 with 4 Axes>"
            ]
          },
          "metadata": {
            "needs_background": "light"
          },
          "output_type": "display_data"
        }
      ],
      "source": [
        "fig, axs = plt.subplots(2,2,figsize=(15,10))\n",
        "axs[0, 0].plot(train_losses)\n",
        "axs[0, 0].set_title(\"Training Loss\")\n",
        "axs[1, 0].plot(train_acc)\n",
        "axs[1, 0].set_title(\"Training Accuracy\")\n",
        "axs[0, 1].plot(test_losses)\n",
        "axs[0, 1].set_title(\"Test Loss\")\n",
        "axs[1, 1].plot(test_acc)\n",
        "axs[1, 1].set_title(\"Test Accuracy\")"
      ]
    },
    {
      "cell_type": "code",
      "execution_count": null,
      "metadata": {},
      "outputs": [],
      "source": []
    }
  ],
  "metadata": {
    "accelerator": "GPU",
    "colab": {
      "gpuType": "T4",
      "provenance": []
    },
    "gpuClass": "standard",
    "kernelspec": {
      "display_name": "Python 3",
      "name": "python3"
    },
    "language_info": {
      "codemirror_mode": {
        "name": "ipython",
        "version": 3
      },
      "file_extension": ".py",
      "mimetype": "text/x-python",
      "name": "python",
      "nbconvert_exporter": "python",
      "pygments_lexer": "ipython3",
      "version": "3.10.8"
    }
  },
  "nbformat": 4,
  "nbformat_minor": 0
}
