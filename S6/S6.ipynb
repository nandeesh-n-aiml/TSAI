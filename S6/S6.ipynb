{
 "cells": [
  {
   "cell_type": "code",
   "execution_count": 69,
   "metadata": {
    "id": "0m2JWFliFfKT"
   },
   "outputs": [],
   "source": [
    "from __future__ import print_function\n",
    "import torch\n",
    "import torch.nn as nn\n",
    "import torch.nn.functional as F\n",
    "import torch.optim as optim\n",
    "from torchvision import datasets, transforms\n",
    "import matplotlib.pyplot as plt\n",
    "\n",
    "# !pip install torchsummary\n",
    "from torchsummary import summary"
   ]
  },
  {
   "cell_type": "code",
   "execution_count": 3,
   "metadata": {
    "colab": {
     "base_uri": "https://localhost:8080/"
    },
    "id": "DqTWLaM5GHgH",
    "outputId": "ec6c1c68-90f6-4c98-9264-3da7745eb4f7"
   },
   "outputs": [],
   "source": [
    "torch.manual_seed(1)\n",
    "batch_size = 128\n",
    "lr = 0.01\n",
    "use_cuda = torch.cuda.is_available()\n",
    "device = torch.device(\"cuda\" if use_cuda else \"cpu\")\n",
    "\n",
    "kwargs = {'num_workers': 1, 'pin_memory': True} if use_cuda else {}\n",
    "\n",
    "train_loader = torch.utils.data.DataLoader(\n",
    "    datasets.MNIST('../data', train=True, download=True,\n",
    "                    transform=transforms.Compose([\n",
    "                        transforms.ToTensor(),\n",
    "                        transforms.Normalize((0.1307,), (0.3081,))\n",
    "                    ])),\n",
    "    batch_size=batch_size, shuffle=True, **kwargs)\n",
    "\n",
    "test_loader = torch.utils.data.DataLoader(\n",
    "    datasets.MNIST('../data', train=False, download=True, transform=transforms.Compose([\n",
    "                        transforms.ToTensor(),\n",
    "                        transforms.Normalize((0.1307,), (0.3081,))\n",
    "                    ])),\n",
    "    batch_size=batch_size, shuffle=True, **kwargs)"
   ]
  },
  {
   "cell_type": "code",
   "execution_count": 4,
   "metadata": {
    "id": "8fDefDhaFlwH"
   },
   "outputs": [],
   "source": [
    "from tqdm import tqdm\n",
    "\n",
    "def train(model, device, train_loader, optimizer, epoch):\n",
    "    model.train()\n",
    "    pbar = tqdm(train_loader)\n",
    "    for batch_idx, (data, target) in enumerate(pbar):\n",
    "        data, target = data.to(device), target.to(device)\n",
    "        optimizer.zero_grad()\n",
    "        output = model(data)\n",
    "        loss = F.nll_loss(output, target)\n",
    "        loss.backward()\n",
    "        optimizer.step()\n",
    "        pbar.set_description(desc= f'loss={loss.item()} batch_id={batch_idx}')\n",
    "\n",
    "\n",
    "def test(model, device, test_loader, epoch):\n",
    "    model.eval()\n",
    "    test_loss = 0\n",
    "    correct = 0\n",
    "    with torch.no_grad():\n",
    "        for data, target in test_loader:\n",
    "            data, target = data.to(device), target.to(device)\n",
    "            output = model(data)\n",
    "            test_loss += F.nll_loss(output, target, reduction='sum').item()  # sum up batch loss\n",
    "            pred = output.argmax(dim=1, keepdim=True)  # get the index of the max log-probability\n",
    "            correct += pred.eq(target.view_as(pred)).sum().item()\n",
    "\n",
    "    test_loss /= len(test_loader.dataset)\n",
    "    test_loss_arr.append(test_loss)\n",
    "    accuracy_arr.append(100. * correct / len(test_loader.dataset))\n",
    "    print('\\nEpoch: {}, Test set: Average loss: {:.4f}, Accuracy: {}/{} ({:.3f}%)\\n'.format(\n",
    "        epoch, test_loss, correct, len(test_loader.dataset),\n",
    "        100. * correct / len(test_loader.dataset)))"
   ]
  },
  {
   "cell_type": "code",
   "execution_count": 183,
   "metadata": {
    "id": "h_Cx9q2QFgM7"
   },
   "outputs": [],
   "source": [
    "# Conditions to meet:\n",
    "# 99.4% validation accuracy\n",
    "# Less than 20k Parameters\n",
    "# Less than 20 Epochs\n",
    "\n",
    "class Net(nn.Module):\n",
    "    def __init__(self):\n",
    "        super(Net, self).__init__()\n",
    "        self.nn = nn.Sequential(\n",
    "            nn.Conv2d(1, 8, 3, padding=1),\n",
    "                nn.ReLU(),\n",
    "            nn.Conv2d(8, 8, 3, padding=1),\n",
    "                nn.ReLU(),\n",
    "            nn.BatchNorm2d(8),\n",
    "            nn.MaxPool2d(2, 2),\n",
    "            \n",
    "            nn.Conv2d(8, 16, 3, padding=1),\n",
    "                nn.ReLU(),\n",
    "            nn.Conv2d(16, 16, 3, padding=1),\n",
    "                nn.ReLU(),\n",
    "            nn.BatchNorm2d(16),\n",
    "            nn.MaxPool2d(2, 2),\n",
    "            \n",
    "            nn.Conv2d(16, 32, 3),\n",
    "                nn.ReLU(),\n",
    "            nn.Conv2d(32, 32, 3),\n",
    "                nn.ReLU(),\n",
    "            nn.Conv2d(32, 10, 1),\n",
    "            nn.AvgPool2d(3)\n",
    "        )\n",
    "\n",
    "    def forward(self, x):\n",
    "        x = self.nn(x)\n",
    "        x = x.view(-1, 10)\n",
    "        return F.log_softmax(x)"
   ]
  },
  {
   "cell_type": "code",
   "execution_count": 184,
   "metadata": {
    "colab": {
     "base_uri": "https://localhost:8080/"
    },
    "id": "xdydjYTZFyi3",
    "outputId": "badf1e0c-4d42-4ce3-a239-e4879773f03e"
   },
   "outputs": [
    {
     "name": "stdout",
     "output_type": "stream",
     "text": [
      "----------------------------------------------------------------\n",
      "        Layer (type)               Output Shape         Param #\n",
      "================================================================\n",
      "            Conv2d-1            [-1, 8, 28, 28]              80\n",
      "              ReLU-2            [-1, 8, 28, 28]               0\n",
      "            Conv2d-3            [-1, 8, 28, 28]             584\n",
      "              ReLU-4            [-1, 8, 28, 28]               0\n",
      "       BatchNorm2d-5            [-1, 8, 28, 28]              16\n",
      "         MaxPool2d-6            [-1, 8, 14, 14]               0\n",
      "            Conv2d-7           [-1, 16, 14, 14]           1,168\n",
      "              ReLU-8           [-1, 16, 14, 14]               0\n",
      "            Conv2d-9           [-1, 16, 14, 14]           2,320\n",
      "             ReLU-10           [-1, 16, 14, 14]               0\n",
      "      BatchNorm2d-11           [-1, 16, 14, 14]              32\n",
      "        MaxPool2d-12             [-1, 16, 7, 7]               0\n",
      "           Conv2d-13             [-1, 32, 5, 5]           4,640\n",
      "             ReLU-14             [-1, 32, 5, 5]               0\n",
      "           Conv2d-15             [-1, 32, 3, 3]           9,248\n",
      "             ReLU-16             [-1, 32, 3, 3]               0\n",
      "           Conv2d-17             [-1, 10, 3, 3]             330\n",
      "        AvgPool2d-18             [-1, 10, 1, 1]               0\n",
      "================================================================\n",
      "Total params: 18,418\n",
      "Trainable params: 18,418\n",
      "Non-trainable params: 0\n",
      "----------------------------------------------------------------\n",
      "Input size (MB): 0.00\n",
      "Forward/backward pass size (MB): 0.39\n",
      "Params size (MB): 0.07\n",
      "Estimated Total Size (MB): 0.47\n",
      "----------------------------------------------------------------\n"
     ]
    },
    {
     "name": "stderr",
     "output_type": "stream",
     "text": [
      "C:\\Users\\focusedmonk\\AppData\\Local\\Temp\\ipykernel_30492\\3122421151.py:35: UserWarning: Implicit dimension choice for log_softmax has been deprecated. Change the call to include dim=X as an argument.\n",
      "  return F.log_softmax(x)\n"
     ]
    }
   ],
   "source": [
    "model = Net().to(device)\n",
    "summary(model, input_size=(1, 28, 28))"
   ]
  },
  {
   "cell_type": "code",
   "execution_count": 185,
   "metadata": {
    "colab": {
     "base_uri": "https://localhost:8080/",
     "height": 433
    },
    "id": "MMWbLWO6FuHb",
    "outputId": "cff236f9-6152-4675-a95c-a4d40871ed67",
    "scrolled": false
   },
   "outputs": [
    {
     "name": "stderr",
     "output_type": "stream",
     "text": [
      "  0%|                                                                                          | 0/469 [00:00<?, ?it/s]C:\\Users\\focusedmonk\\AppData\\Local\\Temp\\ipykernel_30492\\3122421151.py:35: UserWarning: Implicit dimension choice for log_softmax has been deprecated. Change the call to include dim=X as an argument.\n",
      "  return F.log_softmax(x)\n",
      "loss=0.14194756746292114 batch_id=468: 100%|█████████████████████████████████████████| 469/469 [00:14<00:00, 33.27it/s]\n"
     ]
    },
    {
     "name": "stdout",
     "output_type": "stream",
     "text": [
      "\n",
      "Epoch: 1, Test set: Average loss: 0.0650, Accuracy: 9798/10000 (97.980%)\n",
      "\n"
     ]
    },
    {
     "name": "stderr",
     "output_type": "stream",
     "text": [
      "loss=0.059003546833992004 batch_id=468: 100%|████████████████████████████████████████| 469/469 [00:13<00:00, 34.96it/s]\n"
     ]
    },
    {
     "name": "stdout",
     "output_type": "stream",
     "text": [
      "\n",
      "Epoch: 2, Test set: Average loss: 0.0554, Accuracy: 9819/10000 (98.190%)\n",
      "\n"
     ]
    },
    {
     "name": "stderr",
     "output_type": "stream",
     "text": [
      "loss=0.03987615928053856 batch_id=468: 100%|█████████████████████████████████████████| 469/469 [00:13<00:00, 34.25it/s]\n"
     ]
    },
    {
     "name": "stdout",
     "output_type": "stream",
     "text": [
      "\n",
      "Epoch: 3, Test set: Average loss: 0.0406, Accuracy: 9874/10000 (98.740%)\n",
      "\n"
     ]
    },
    {
     "name": "stderr",
     "output_type": "stream",
     "text": [
      "loss=0.004294338636100292 batch_id=468: 100%|████████████████████████████████████████| 469/469 [00:13<00:00, 33.74it/s]\n"
     ]
    },
    {
     "name": "stdout",
     "output_type": "stream",
     "text": [
      "\n",
      "Epoch: 4, Test set: Average loss: 0.0375, Accuracy: 9880/10000 (98.800%)\n",
      "\n"
     ]
    },
    {
     "name": "stderr",
     "output_type": "stream",
     "text": [
      "loss=0.021271876990795135 batch_id=468: 100%|████████████████████████████████████████| 469/469 [00:13<00:00, 34.40it/s]\n"
     ]
    },
    {
     "name": "stdout",
     "output_type": "stream",
     "text": [
      "\n",
      "Epoch: 5, Test set: Average loss: 0.0327, Accuracy: 9895/10000 (98.950%)\n",
      "\n"
     ]
    },
    {
     "name": "stderr",
     "output_type": "stream",
     "text": [
      "loss=0.015065344981849194 batch_id=468: 100%|████████████████████████████████████████| 469/469 [00:14<00:00, 33.50it/s]\n"
     ]
    },
    {
     "name": "stdout",
     "output_type": "stream",
     "text": [
      "\n",
      "Epoch: 6, Test set: Average loss: 0.0355, Accuracy: 9888/10000 (98.880%)\n",
      "\n"
     ]
    },
    {
     "name": "stderr",
     "output_type": "stream",
     "text": [
      "loss=0.0030502788722515106 batch_id=468: 100%|███████████████████████████████████████| 469/469 [00:13<00:00, 36.01it/s]\n"
     ]
    },
    {
     "name": "stdout",
     "output_type": "stream",
     "text": [
      "\n",
      "Epoch: 7, Test set: Average loss: 0.0467, Accuracy: 9837/10000 (98.370%)\n",
      "\n"
     ]
    },
    {
     "name": "stderr",
     "output_type": "stream",
     "text": [
      "loss=0.007221200969070196 batch_id=468: 100%|████████████████████████████████████████| 469/469 [00:13<00:00, 34.06it/s]\n"
     ]
    },
    {
     "name": "stdout",
     "output_type": "stream",
     "text": [
      "\n",
      "Epoch: 8, Test set: Average loss: 0.0348, Accuracy: 9887/10000 (98.870%)\n",
      "\n"
     ]
    },
    {
     "name": "stderr",
     "output_type": "stream",
     "text": [
      "loss=0.008761454373598099 batch_id=468: 100%|████████████████████████████████████████| 469/469 [00:13<00:00, 34.46it/s]\n"
     ]
    },
    {
     "name": "stdout",
     "output_type": "stream",
     "text": [
      "\n",
      "Epoch: 9, Test set: Average loss: 0.0362, Accuracy: 9886/10000 (98.860%)\n",
      "\n"
     ]
    },
    {
     "name": "stderr",
     "output_type": "stream",
     "text": [
      "loss=0.03797650709748268 batch_id=468: 100%|█████████████████████████████████████████| 469/469 [00:13<00:00, 34.55it/s]\n"
     ]
    },
    {
     "name": "stdout",
     "output_type": "stream",
     "text": [
      "\n",
      "Epoch: 10, Test set: Average loss: 0.0319, Accuracy: 9907/10000 (99.070%)\n",
      "\n"
     ]
    },
    {
     "name": "stderr",
     "output_type": "stream",
     "text": [
      "loss=0.023922361433506012 batch_id=468: 100%|████████████████████████████████████████| 469/469 [00:13<00:00, 34.30it/s]\n"
     ]
    },
    {
     "name": "stdout",
     "output_type": "stream",
     "text": [
      "\n",
      "Epoch: 11, Test set: Average loss: 0.0271, Accuracy: 9906/10000 (99.060%)\n",
      "\n"
     ]
    },
    {
     "name": "stderr",
     "output_type": "stream",
     "text": [
      "loss=0.018082693219184875 batch_id=468: 100%|████████████████████████████████████████| 469/469 [00:13<00:00, 34.88it/s]\n"
     ]
    },
    {
     "name": "stdout",
     "output_type": "stream",
     "text": [
      "\n",
      "Epoch: 12, Test set: Average loss: 0.0264, Accuracy: 9915/10000 (99.150%)\n",
      "\n"
     ]
    },
    {
     "name": "stderr",
     "output_type": "stream",
     "text": [
      "loss=0.010037104599177837 batch_id=468: 100%|████████████████████████████████████████| 469/469 [00:13<00:00, 35.12it/s]\n"
     ]
    },
    {
     "name": "stdout",
     "output_type": "stream",
     "text": [
      "\n",
      "Epoch: 13, Test set: Average loss: 0.0276, Accuracy: 9916/10000 (99.160%)\n",
      "\n"
     ]
    },
    {
     "name": "stderr",
     "output_type": "stream",
     "text": [
      "loss=0.00024924008175730705 batch_id=468: 100%|██████████████████████████████████████| 469/469 [00:13<00:00, 34.72it/s]\n"
     ]
    },
    {
     "name": "stdout",
     "output_type": "stream",
     "text": [
      "\n",
      "Epoch: 14, Test set: Average loss: 0.0226, Accuracy: 9926/10000 (99.260%)\n",
      "\n"
     ]
    },
    {
     "name": "stderr",
     "output_type": "stream",
     "text": [
      "loss=0.032180678099393845 batch_id=468: 100%|████████████████████████████████████████| 469/469 [00:13<00:00, 34.46it/s]\n"
     ]
    },
    {
     "name": "stdout",
     "output_type": "stream",
     "text": [
      "\n",
      "Epoch: 15, Test set: Average loss: 0.0401, Accuracy: 9872/10000 (98.720%)\n",
      "\n"
     ]
    },
    {
     "name": "stderr",
     "output_type": "stream",
     "text": [
      "loss=0.0017514177598059177 batch_id=468: 100%|███████████████████████████████████████| 469/469 [00:14<00:00, 32.61it/s]\n"
     ]
    },
    {
     "name": "stdout",
     "output_type": "stream",
     "text": [
      "\n",
      "Epoch: 16, Test set: Average loss: 0.0276, Accuracy: 9920/10000 (99.200%)\n",
      "\n"
     ]
    },
    {
     "name": "stderr",
     "output_type": "stream",
     "text": [
      "loss=0.00724516436457634 batch_id=468: 100%|█████████████████████████████████████████| 469/469 [00:14<00:00, 33.04it/s]\n"
     ]
    },
    {
     "name": "stdout",
     "output_type": "stream",
     "text": [
      "\n",
      "Epoch: 17, Test set: Average loss: 0.0306, Accuracy: 9915/10000 (99.150%)\n",
      "\n"
     ]
    },
    {
     "name": "stderr",
     "output_type": "stream",
     "text": [
      "loss=0.003933089319616556 batch_id=468: 100%|████████████████████████████████████████| 469/469 [00:13<00:00, 34.04it/s]\n"
     ]
    },
    {
     "name": "stdout",
     "output_type": "stream",
     "text": [
      "\n",
      "Epoch: 18, Test set: Average loss: 0.0308, Accuracy: 9909/10000 (99.090%)\n",
      "\n"
     ]
    },
    {
     "name": "stderr",
     "output_type": "stream",
     "text": [
      "loss=0.005942223593592644 batch_id=468: 100%|████████████████████████████████████████| 469/469 [00:13<00:00, 34.75it/s]\n"
     ]
    },
    {
     "name": "stdout",
     "output_type": "stream",
     "text": [
      "\n",
      "Epoch: 19, Test set: Average loss: 0.0280, Accuracy: 9923/10000 (99.230%)\n",
      "\n"
     ]
    },
    {
     "name": "stderr",
     "output_type": "stream",
     "text": [
      "loss=0.006367290858179331 batch_id=468: 100%|████████████████████████████████████████| 469/469 [00:13<00:00, 34.76it/s]\n"
     ]
    },
    {
     "name": "stdout",
     "output_type": "stream",
     "text": [
      "\n",
      "Epoch: 20, Test set: Average loss: 0.0348, Accuracy: 9901/10000 (99.010%)\n",
      "\n"
     ]
    }
   ],
   "source": [
    "### model = Net().to(device)\n",
    "test_loss_arr = []\n",
    "accuracy_arr = []\n",
    "optimizer = optim.SGD(model.parameters(), lr=lr, momentum=0.9)\n",
    "epochs = 20\n",
    "\n",
    "for epoch in range(1, epochs+1):\n",
    "    train(model, device, train_loader, optimizer, epoch)\n",
    "    test(model, device, test_loader, epoch)"
   ]
  },
  {
   "cell_type": "code",
   "execution_count": 186,
   "metadata": {},
   "outputs": [
    {
     "data": {
      "image/png": "[encoded data removed]",
      "text/plain": [
       "<Figure size 1080x360 with 2 Axes>"
      ]
     },
     "metadata": {
      "needs_background": "light"
     },
     "output_type": "display_data"
    }
   ],
   "source": [
    "plt.figure(figsize=(15,5))\n",
    "plt.subplot(1, 2, 1)\n",
    "plt.plot(test_loss_arr)\n",
    "plt.title('Test Loss')\n",
    "plt.subplot(1, 2, 2)\n",
    "plt.plot(accuracy_arr)\n",
    "plt.title('Test Accuracy')\n",
    "plt.show()"
   ]
  },
  {
   "cell_type": "code",
   "execution_count": null,
   "metadata": {},
   "outputs": [],
   "source": []
  }
 ],
 "metadata": {
  "accelerator": "GPU",
  "colab": {
   "provenance": []
  },
  "kernelspec": {
   "display_name": "Python 3 (ipykernel)",
   "language": "python",
   "name": "python3"
  },
  "language_info": {
   "codemirror_mode": {
    "name": "ipython",
    "version": 3
   },
   "file_extension": ".py",
   "mimetype": "text/x-python",
   "name": "python",
   "nbconvert_exporter": "python",
   "pygments_lexer": "ipython3",
   "version": "3.10.8"
  }
 },
 "nbformat": 4,
 "nbformat_minor": 1
}
